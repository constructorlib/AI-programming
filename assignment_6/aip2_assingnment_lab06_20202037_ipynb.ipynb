{
  "cells": [
    {
      "cell_type": "markdown",
      "metadata": {
        "id": "Hvx4fQpoz12k"
      },
      "source": [
        "# **Lab Session 06 : MLP - Part1**"
      ]
    },
    {
      "cell_type": "markdown",
      "metadata": {
        "id": "BImVQEKb0qI0"
      },
      "source": [
        "### **Exercise 0: Check python and scikit-learn version**\n",
        "\n",
        "We are going to use python and scikit-learn version installed in colab by default.\n",
        "\n",
        "* **python version** : 3.10.12\n",
        "* **scikit-learn version** : 1.2.2\n"
      ]
    },
    {
      "cell_type": "code",
      "source": [
        "!python --version"
      ],
      "metadata": {
        "id": "5mpE3VVka-sp",
        "colab": {
          "base_uri": "https://localhost:8080/"
        },
        "outputId": "c42946bb-67ad-4568-cfdf-27ac1509b413"
      },
      "execution_count": 1,
      "outputs": [
        {
          "output_type": "stream",
          "name": "stdout",
          "text": [
            "Python 3.10.12\n"
          ]
        }
      ]
    },
    {
      "cell_type": "code",
      "source": [
        "!pip show scikit-learn"
      ],
      "metadata": {
        "id": "XuxVy-BGF0mr",
        "colab": {
          "base_uri": "https://localhost:8080/"
        },
        "outputId": "6a3a152d-40e3-4b5d-b807-383d098838c7"
      },
      "execution_count": 3,
      "outputs": [
        {
          "output_type": "stream",
          "name": "stdout",
          "text": [
            "Name: scikit-learn\n",
            "Version: 1.2.2\n",
            "Summary: A set of python modules for machine learning and data mining\n",
            "Home-page: http://scikit-learn.org\n",
            "Author: \n",
            "Author-email: \n",
            "License: new BSD\n",
            "Location: /usr/local/lib/python3.10/dist-packages\n",
            "Requires: joblib, numpy, scipy, threadpoolctl\n",
            "Required-by: bigframes, fastai, imbalanced-learn, librosa, mlxtend, qudida, sklearn-pandas, yellowbrick\n"
          ]
        }
      ]
    },
    {
      "cell_type": "code",
      "source": [
        "# Also, you can check the version of library like below.\n",
        "import sklearn\n",
        "print(sklearn.__version__)\n"
      ],
      "metadata": {
        "id": "iE4PZGXcQtjC",
        "colab": {
          "base_uri": "https://localhost:8080/"
        },
        "outputId": "67a98be9-2b14-4d78-ae67-36cf9e9d4797"
      },
      "execution_count": 6,
      "outputs": [
        {
          "output_type": "stream",
          "name": "stdout",
          "text": [
            "1.2.2\n"
          ]
        }
      ]
    },
    {
      "cell_type": "markdown",
      "metadata": {
        "id": "tAhEBoNi2CZV"
      },
      "source": [
        "---\n",
        "### **Exercise 1: Check Tensorﬂow 2 version**\n",
        "\n",
        "\n",
        "(This exercise is based on the example in Section \"*Installing Tensorﬂow 2*\" on in the textbook.)\n",
        "\n",
        "We'll also be using tensorflow version installed in colab by default.\n",
        "\n",
        "Just check the existence of tensorﬂow and its version.\n",
        "\n",
        "* **tensorflow version** : 2.14.0\n",
        "\n"
      ]
    },
    {
      "cell_type": "code",
      "source": [
        "! pip show tensorflow"
      ],
      "metadata": {
        "id": "ZJ-GTOjKLa7g",
        "colab": {
          "base_uri": "https://localhost:8080/"
        },
        "outputId": "d2393746-10b9-4e26-d3f5-215b3535433a"
      },
      "execution_count": 5,
      "outputs": [
        {
          "output_type": "stream",
          "name": "stdout",
          "text": [
            "Name: tensorflow\n",
            "Version: 2.14.0\n",
            "Summary: TensorFlow is an open source machine learning framework for everyone.\n",
            "Home-page: https://www.tensorflow.org/\n",
            "Author: Google Inc.\n",
            "Author-email: packages@tensorflow.org\n",
            "License: Apache 2.0\n",
            "Location: /usr/local/lib/python3.10/dist-packages\n",
            "Requires: absl-py, astunparse, flatbuffers, gast, google-pasta, grpcio, h5py, keras, libclang, ml-dtypes, numpy, opt-einsum, packaging, protobuf, setuptools, six, tensorboard, tensorflow-estimator, tensorflow-io-gcs-filesystem, termcolor, typing-extensions, wrapt\n",
            "Required-by: dopamine-rl\n"
          ]
        }
      ]
    },
    {
      "cell_type": "code",
      "execution_count": 7,
      "metadata": {
        "id": "EeGmZn2UaIkR",
        "colab": {
          "base_uri": "https://localhost:8080/"
        },
        "outputId": "6e295222-6cfd-4620-9baa-464a87bd5490"
      },
      "outputs": [
        {
          "output_type": "stream",
          "name": "stdout",
          "text": [
            "2.14.0\n"
          ]
        }
      ],
      "source": [
        "import tensorflow as tf\n",
        "from tensorflow import keras\n",
        "print(tf.__version__)"
      ]
    },
    {
      "cell_type": "markdown",
      "metadata": {
        "id": "OXQlLP082jvx"
      },
      "source": [
        "\n",
        "\n",
        "---\n",
        "\n",
        "\n",
        "\n",
        "\n",
        "\n",
        "\n",
        "### **Exercise 2: Building an Image Classiﬁer Using Sequential API**\n",
        "\n",
        "\n",
        "( This exercise is based on the example in Section \"*Building an Image Classiﬁer Using Sequential API*\" in the textbook.)\n",
        "\n",
        "Keras provides some utility functions to fetch and load common datasets.\n",
        "\n",
        "Let’s load a dataset called \"***Fashion MNIST***\".\n",
        "\n",
        "\n",
        "> * Fahsion MNIST dataset samples\n",
        "\n",
        "<img src=\"https://drive.google.com/uc?export=download&id=1f0XYecMD-jl5K4xaVbCZHxvVAdoOD5Kj\" width=\"600\" />"
      ]
    },
    {
      "cell_type": "code",
      "execution_count": 8,
      "metadata": {
        "id": "kMVPjE_saTAs",
        "colab": {
          "base_uri": "https://localhost:8080/"
        },
        "outputId": "5ddbee9c-bbfc-47df-8003-dad2614901c0"
      },
      "outputs": [
        {
          "output_type": "stream",
          "name": "stdout",
          "text": [
            "Downloading data from https://storage.googleapis.com/tensorflow/tf-keras-datasets/train-labels-idx1-ubyte.gz\n",
            "29515/29515 [==============================] - 0s 0us/step\n",
            "Downloading data from https://storage.googleapis.com/tensorflow/tf-keras-datasets/train-images-idx3-ubyte.gz\n",
            "26421880/26421880 [==============================] - 0s 0us/step\n",
            "Downloading data from https://storage.googleapis.com/tensorflow/tf-keras-datasets/t10k-labels-idx1-ubyte.gz\n",
            "5148/5148 [==============================] - 0s 0us/step\n",
            "Downloading data from https://storage.googleapis.com/tensorflow/tf-keras-datasets/t10k-images-idx3-ubyte.gz\n",
            "4422102/4422102 [==============================] - 0s 0us/step\n"
          ]
        }
      ],
      "source": [
        "# Load fashion_mnist dataset from keras.datasets\n",
        "fashion_mnist = keras.datasets.fashion_mnist\n",
        "\n",
        "(X_train_full, y_train_full), (X_test, y_test) = fashion_mnist.load_data()"
      ]
    },
    {
      "cell_type": "markdown",
      "metadata": {
        "id": "68hAlcyF3PeJ"
      },
      "source": [
        "*You can check the shape and the data type of the dataset.*"
      ]
    },
    {
      "cell_type": "code",
      "execution_count": 9,
      "metadata": {
        "id": "8BZj3e6Ra5Ec",
        "colab": {
          "base_uri": "https://localhost:8080/"
        },
        "outputId": "bac78a35-70a3-43cf-ddde-4230a79969a6"
      },
      "outputs": [
        {
          "output_type": "execute_result",
          "data": {
            "text/plain": [
              "(60000, 28, 28)"
            ]
          },
          "metadata": {},
          "execution_count": 9
        }
      ],
      "source": [
        "# Check the shape of the dataset.\n",
        "# output : ( number of images in the dataset , width of the image , height of the image)\n",
        "X_train_full.shape"
      ]
    },
    {
      "cell_type": "code",
      "execution_count": 10,
      "metadata": {
        "id": "RlTRhxBabAXY",
        "colab": {
          "base_uri": "https://localhost:8080/"
        },
        "outputId": "26bee02f-f03a-4ca7-eb52-c554ca3348a6"
      },
      "outputs": [
        {
          "output_type": "execute_result",
          "data": {
            "text/plain": [
              "dtype('uint8')"
            ]
          },
          "metadata": {},
          "execution_count": 10
        }
      ],
      "source": [
        "# Check the data type of the dataset.\n",
        "X_train_full.dtype"
      ]
    },
    {
      "cell_type": "markdown",
      "metadata": {
        "id": "T6-ikCq_3VhT"
      },
      "source": [
        "Note that the dataset is already split into a training set and a test set, but there is no validation set, so we’ll create one now."
      ]
    },
    {
      "cell_type": "code",
      "execution_count": 11,
      "metadata": {
        "id": "9tR6EmHrc8aP"
      },
      "outputs": [],
      "source": [
        "# Split train dataset(train_full) into train dataset(train) and validation dataset(valid) to create validation dataset.\n",
        "X_valid, X_train = X_train_full[:5000] / 255.0, X_train_full[5000:] / 255.0\n",
        "y_valid, y_train = y_train_full[:5000], y_train_full[5000:]"
      ]
    },
    {
      "cell_type": "markdown",
      "metadata": {
        "id": "Buja0mRn3jJD"
      },
      "source": [
        "You can assign the class name to the labels in \"***Fashion MNIST***\"."
      ]
    },
    {
      "cell_type": "code",
      "execution_count": 12,
      "metadata": {
        "id": "BLg0-4mZeZ2X"
      },
      "outputs": [],
      "source": [
        "# Assign the class name to the labels in Fashion MNIST.\n",
        "class_names = [\"T-shirt/top\", \"Trouser\", \"Pullover\", \"Dress\", \"Coat\", \"Sandal\",\n",
        "               \"Shirt\", \"Sneaker\", \"Bag\", \"Ankle boot\"]"
      ]
    },
    {
      "cell_type": "code",
      "execution_count": 13,
      "metadata": {
        "id": "_uSFuIGseZ5O",
        "colab": {
          "base_uri": "https://localhost:8080/"
        },
        "outputId": "2b0c59cf-e5e5-4dcf-86ae-00271a69d6a2"
      },
      "outputs": [
        {
          "output_type": "execute_result",
          "data": {
            "text/plain": [
              "4"
            ]
          },
          "metadata": {},
          "execution_count": 13
        }
      ],
      "source": [
        "y_train[0]"
      ]
    },
    {
      "cell_type": "code",
      "execution_count": 14,
      "metadata": {
        "id": "XzsGyTk8eZ79",
        "colab": {
          "base_uri": "https://localhost:8080/",
          "height": 35
        },
        "outputId": "5bc83ed6-9b64-4b47-eadd-2e24003f85b1"
      },
      "outputs": [
        {
          "output_type": "execute_result",
          "data": {
            "text/plain": [
              "'Coat'"
            ],
            "application/vnd.google.colaboratory.intrinsic+json": {
              "type": "string"
            }
          },
          "metadata": {},
          "execution_count": 14
        }
      ],
      "source": [
        "class_names[y_train[0]]"
      ]
    },
    {
      "cell_type": "markdown",
      "metadata": {
        "id": "VGmL6UGYC2qT"
      },
      "source": [
        "\n",
        "\n",
        "---\n",
        "\n",
        "### **Exercise 3: Creating the model using the Sequential API**\n",
        "\n",
        "( This exercise is based on the example in Section \"*Creating the model using the Sequential API*\" in the textbook. )\n",
        "\n",
        "Creating model consists of the following two steps.\n",
        "\n",
        "1. Create a Sequential model\n",
        "\n",
        "2. Add some layers.\n",
        "\n",
        "There are two types of layers:\n",
        "\n",
        "> *   ***Flatten***: convert an input image into a 1D array.\n",
        "> *   ***Dense***: create a layer that contains all connections between the neurons in the layer and the\n",
        "previous layer.\n",
        "\n",
        "\n"
      ]
    },
    {
      "cell_type": "code",
      "execution_count": 16,
      "metadata": {
        "id": "BQUXN7oteaBu"
      },
      "outputs": [],
      "source": [
        "from keras.src.layers.attention.multi_head_attention import activation\n",
        "# 1. Create a Sequential model\n",
        "model = keras.models.Sequential()\n",
        "\n",
        "# 2. Add some layers.\n",
        "model.add(keras.layers.Flatten(input_shape=[28,28]))\n",
        "model.add(keras.layers.Dense(300, activation=\"relu\"))\n",
        "model.add(keras.layers.Dense(100, activation=\"relu\"))\n",
        "model.add(keras.layers.Dense(10, activation=\"softmax\"))\n"
      ]
    },
    {
      "cell_type": "markdown",
      "metadata": {
        "id": "g163n775D9bc"
      },
      "source": [
        "*You can see the information of the model by the following command.*"
      ]
    },
    {
      "cell_type": "code",
      "execution_count": 17,
      "metadata": {
        "id": "0IMPq_SLeaEw",
        "colab": {
          "base_uri": "https://localhost:8080/"
        },
        "outputId": "c3636d99-1b1b-40d0-8233-5076d46fc3b3"
      },
      "outputs": [
        {
          "output_type": "stream",
          "name": "stdout",
          "text": [
            "Model: \"sequential_1\"\n",
            "_________________________________________________________________\n",
            " Layer (type)                Output Shape              Param #   \n",
            "=================================================================\n",
            " flatten_1 (Flatten)         (None, 784)               0         \n",
            "                                                                 \n",
            " dense (Dense)               (None, 300)               235500    \n",
            "                                                                 \n",
            " dense_1 (Dense)             (None, 100)               30100     \n",
            "                                                                 \n",
            " dense_2 (Dense)             (None, 10)                1010      \n",
            "                                                                 \n",
            "=================================================================\n",
            "Total params: 266610 (1.02 MB)\n",
            "Trainable params: 266610 (1.02 MB)\n",
            "Non-trainable params: 0 (0.00 Byte)\n",
            "_________________________________________________________________\n"
          ]
        }
      ],
      "source": [
        "# Check the information of the model using \"summary()\" method.\n",
        "model.summary()"
      ]
    },
    {
      "cell_type": "markdown",
      "metadata": {
        "id": "_F3NdsCREFD6"
      },
      "source": [
        "*You can find out the information of the layers in the model by the following commands.*"
      ]
    },
    {
      "cell_type": "code",
      "execution_count": 18,
      "metadata": {
        "id": "CJhNI0MLe8-X",
        "colab": {
          "base_uri": "https://localhost:8080/"
        },
        "outputId": "4578c31c-b4d0-4164-a411-31de470d1ef1"
      },
      "outputs": [
        {
          "output_type": "execute_result",
          "data": {
            "text/plain": [
              "[<keras.src.layers.reshaping.flatten.Flatten at 0x7c15c7e12800>,\n",
              " <keras.src.layers.core.dense.Dense at 0x7c15c7e10910>,\n",
              " <keras.src.layers.core.dense.Dense at 0x7c15c7e1e5c0>,\n",
              " <keras.src.layers.core.dense.Dense at 0x7c15c7e1c1f0>]"
            ]
          },
          "metadata": {},
          "execution_count": 18
        }
      ],
      "source": [
        "# Check the information of the layers in the model.\n",
        "model.layers"
      ]
    },
    {
      "cell_type": "code",
      "execution_count": 19,
      "metadata": {
        "id": "izzjdQnye9A_",
        "colab": {
          "base_uri": "https://localhost:8080/"
        },
        "outputId": "a96a8d15-bb38-486a-a091-856c67df43b5"
      },
      "outputs": [
        {
          "output_type": "stream",
          "name": "stdout",
          "text": [
            "dense\n"
          ]
        }
      ],
      "source": [
        "# Check the second layer in the model.\n",
        "hidden1 = model.layers[1]\n",
        "print(hidden1.name)"
      ]
    },
    {
      "cell_type": "code",
      "execution_count": 20,
      "metadata": {
        "id": "IeoN3Jcke9GX",
        "colab": {
          "base_uri": "https://localhost:8080/"
        },
        "outputId": "4f4bb7bd-a119-439d-d9b7-37e05f6038de"
      },
      "outputs": [
        {
          "output_type": "execute_result",
          "data": {
            "text/plain": [
              "True"
            ]
          },
          "metadata": {},
          "execution_count": 20
        }
      ],
      "source": [
        "# Is the layer object of hidden1 'dense'?\n",
        "model.get_layer('dense') is hidden1"
      ]
    },
    {
      "cell_type": "markdown",
      "metadata": {
        "id": "W0StwaIxEmvS"
      },
      "source": [
        "*All parameters of layers can be accessed by using a member function called* `get_weights()`."
      ]
    },
    {
      "cell_type": "code",
      "execution_count": 21,
      "metadata": {
        "id": "4GL3BcRke9JJ",
        "colab": {
          "base_uri": "https://localhost:8080/"
        },
        "outputId": "56e62dc4-c057-4256-82e1-36371da3d98c"
      },
      "outputs": [
        {
          "output_type": "stream",
          "name": "stdout",
          "text": [
            "[[ 0.01629543 -0.04309358  0.06195757 ...  0.03772004  0.0481788\n",
            "  -0.06288762]\n",
            " [ 0.05813099  0.05035129  0.07240154 ...  0.06918398 -0.06532958\n",
            "  -0.04562376]\n",
            " [-0.02138568 -0.02601765 -0.00760902 ...  0.05687924  0.06970282\n",
            "   0.00875176]\n",
            " ...\n",
            " [-0.05605811  0.009038   -0.03864871 ...  0.02924133 -0.00273459\n",
            "   0.04422666]\n",
            " [-0.04147648 -0.01208565 -0.01660414 ... -0.05891041 -0.06110566\n",
            "  -0.0601312 ]\n",
            " [ 0.06583713 -0.06084238  0.02198509 ... -0.055517    0.03181855\n",
            "   0.07388824]]\n"
          ]
        }
      ],
      "source": [
        "# Check parameters(weights, biases) of hidden1 layer.\n",
        "weights, biases = hidden1.get_weights()\n",
        "print(weights)"
      ]
    },
    {
      "cell_type": "code",
      "execution_count": 22,
      "metadata": {
        "id": "u8lt4Gyre9Lo",
        "colab": {
          "base_uri": "https://localhost:8080/"
        },
        "outputId": "01c599af-94f8-4a4d-a1c2-ccd0abc3f122"
      },
      "outputs": [
        {
          "output_type": "execute_result",
          "data": {
            "text/plain": [
              "(784, 300)"
            ]
          },
          "metadata": {},
          "execution_count": 22
        }
      ],
      "source": [
        "# Check weights array shape.\n",
        "weights.shape"
      ]
    },
    {
      "cell_type": "code",
      "execution_count": 23,
      "metadata": {
        "id": "HI9JwmsmE0Ni",
        "colab": {
          "base_uri": "https://localhost:8080/"
        },
        "outputId": "4c861395-6cce-4838-b738-cc6dd9fe1d1b"
      },
      "outputs": [
        {
          "output_type": "execute_result",
          "data": {
            "text/plain": [
              "(300,)"
            ]
          },
          "metadata": {},
          "execution_count": 23
        }
      ],
      "source": [
        "# Check biases array shape.\n",
        "biases.shape"
      ]
    },
    {
      "cell_type": "markdown",
      "metadata": {
        "id": "RttENs4gE6UZ"
      },
      "source": [
        "\n",
        "\n",
        "---\n",
        "\n",
        "### **Exercise 4: Train the model**\n",
        "\n",
        "\n",
        "( This exercise is based on the examples in Section \"*Compiling the model, Training and evaluating the model*\" in the textbook. )\n",
        "\n",
        "After the model is created, you can specify the loss function and the optimizer by a member function called `compile()`.\n",
        "\n",
        "\n"
      ]
    },
    {
      "cell_type": "code",
      "execution_count": 24,
      "metadata": {
        "id": "gX_I5_bAFXxj"
      },
      "outputs": [],
      "source": [
        "# Specify the loss function and the optimizer using \"complie()\" method.\n",
        "# We will use \"sparse categorical cross-entropy\" as loss function, and \"stochastic gradient descent (sgd)\" as optimizer.\n",
        "model.compile(loss=\"sparse_categorical_crossentropy\", optimizer=\"sgd\",\n",
        "              metrics=[\"accuracy\"])\n"
      ]
    },
    {
      "cell_type": "markdown",
      "metadata": {
        "id": "UCMYm5ZAFdml"
      },
      "source": [
        "`fit()` *will train the model.*\n",
        "\n",
        "Training history is saved in 'history' variable."
      ]
    },
    {
      "cell_type": "code",
      "execution_count": 25,
      "metadata": {
        "id": "eapJ8X9VFy1C",
        "colab": {
          "base_uri": "https://localhost:8080/"
        },
        "outputId": "bf08b07a-db42-4027-b375-11d14518ab2e"
      },
      "outputs": [
        {
          "output_type": "stream",
          "name": "stdout",
          "text": [
            "Epoch 1/30\n",
            "1719/1719 [==============================] - 8s 4ms/step - loss: 0.7370 - accuracy: 0.7575 - val_loss: 0.5159 - val_accuracy: 0.8236\n",
            "Epoch 2/30\n",
            "1719/1719 [==============================] - 8s 4ms/step - loss: 0.4886 - accuracy: 0.8304 - val_loss: 0.4505 - val_accuracy: 0.8488\n",
            "Epoch 3/30\n",
            "1719/1719 [==============================] - 10s 6ms/step - loss: 0.4407 - accuracy: 0.8473 - val_loss: 0.4158 - val_accuracy: 0.8590\n",
            "Epoch 4/30\n",
            "1719/1719 [==============================] - 10s 6ms/step - loss: 0.4133 - accuracy: 0.8558 - val_loss: 0.3884 - val_accuracy: 0.8636\n",
            "Epoch 5/30\n",
            "1719/1719 [==============================] - 7s 4ms/step - loss: 0.3930 - accuracy: 0.8636 - val_loss: 0.3798 - val_accuracy: 0.8690\n",
            "Epoch 6/30\n",
            "1719/1719 [==============================] - 6s 4ms/step - loss: 0.3770 - accuracy: 0.8681 - val_loss: 0.3713 - val_accuracy: 0.8692\n",
            "Epoch 7/30\n",
            "1719/1719 [==============================] - 12s 7ms/step - loss: 0.3644 - accuracy: 0.8721 - val_loss: 0.3633 - val_accuracy: 0.8742\n",
            "Epoch 8/30\n",
            "1719/1719 [==============================] - 12s 7ms/step - loss: 0.3534 - accuracy: 0.8753 - val_loss: 0.3547 - val_accuracy: 0.8778\n",
            "Epoch 9/30\n",
            "1719/1719 [==============================] - 10s 6ms/step - loss: 0.3430 - accuracy: 0.8778 - val_loss: 0.3448 - val_accuracy: 0.8792\n",
            "Epoch 10/30\n",
            "1719/1719 [==============================] - 8s 5ms/step - loss: 0.3342 - accuracy: 0.8811 - val_loss: 0.3365 - val_accuracy: 0.8836\n",
            "Epoch 11/30\n",
            "1719/1719 [==============================] - 14s 8ms/step - loss: 0.3245 - accuracy: 0.8843 - val_loss: 0.3492 - val_accuracy: 0.8750\n",
            "Epoch 12/30\n",
            "1719/1719 [==============================] - 12s 7ms/step - loss: 0.3165 - accuracy: 0.8864 - val_loss: 0.3452 - val_accuracy: 0.8754\n",
            "Epoch 13/30\n",
            "1719/1719 [==============================] - 14s 8ms/step - loss: 0.3092 - accuracy: 0.8899 - val_loss: 0.3611 - val_accuracy: 0.8666\n",
            "Epoch 14/30\n",
            "1719/1719 [==============================] - 9s 5ms/step - loss: 0.3022 - accuracy: 0.8920 - val_loss: 0.3274 - val_accuracy: 0.8842\n",
            "Epoch 15/30\n",
            "1719/1719 [==============================] - 7s 4ms/step - loss: 0.2962 - accuracy: 0.8939 - val_loss: 0.3267 - val_accuracy: 0.8864\n",
            "Epoch 16/30\n",
            "1719/1719 [==============================] - 6s 4ms/step - loss: 0.2900 - accuracy: 0.8959 - val_loss: 0.3225 - val_accuracy: 0.8846\n",
            "Epoch 17/30\n",
            "1719/1719 [==============================] - 7s 4ms/step - loss: 0.2842 - accuracy: 0.8978 - val_loss: 0.3106 - val_accuracy: 0.8882\n",
            "Epoch 18/30\n",
            "1719/1719 [==============================] - 6s 4ms/step - loss: 0.2782 - accuracy: 0.9003 - val_loss: 0.3187 - val_accuracy: 0.8848\n",
            "Epoch 19/30\n",
            "1719/1719 [==============================] - 7s 4ms/step - loss: 0.2730 - accuracy: 0.9017 - val_loss: 0.3215 - val_accuracy: 0.8824\n",
            "Epoch 20/30\n",
            "1719/1719 [==============================] - 6s 3ms/step - loss: 0.2680 - accuracy: 0.9037 - val_loss: 0.3037 - val_accuracy: 0.8902\n",
            "Epoch 21/30\n",
            "1719/1719 [==============================] - 7s 4ms/step - loss: 0.2639 - accuracy: 0.9040 - val_loss: 0.3194 - val_accuracy: 0.8828\n",
            "Epoch 22/30\n",
            "1719/1719 [==============================] - 6s 4ms/step - loss: 0.2592 - accuracy: 0.9067 - val_loss: 0.3115 - val_accuracy: 0.8864\n",
            "Epoch 23/30\n",
            "1719/1719 [==============================] - 9s 5ms/step - loss: 0.2548 - accuracy: 0.9075 - val_loss: 0.2994 - val_accuracy: 0.8888\n",
            "Epoch 24/30\n",
            "1719/1719 [==============================] - 7s 4ms/step - loss: 0.2505 - accuracy: 0.9093 - val_loss: 0.3230 - val_accuracy: 0.8776\n",
            "Epoch 25/30\n",
            "1719/1719 [==============================] - 14s 8ms/step - loss: 0.2465 - accuracy: 0.9105 - val_loss: 0.3027 - val_accuracy: 0.8872\n",
            "Epoch 26/30\n",
            "1719/1719 [==============================] - 11s 7ms/step - loss: 0.2413 - accuracy: 0.9139 - val_loss: 0.2933 - val_accuracy: 0.8914\n",
            "Epoch 27/30\n",
            "1719/1719 [==============================] - 11s 6ms/step - loss: 0.2378 - accuracy: 0.9141 - val_loss: 0.2994 - val_accuracy: 0.8924\n",
            "Epoch 28/30\n",
            "1719/1719 [==============================] - 13s 8ms/step - loss: 0.2342 - accuracy: 0.9157 - val_loss: 0.3040 - val_accuracy: 0.8886\n",
            "Epoch 29/30\n",
            "1719/1719 [==============================] - 11s 6ms/step - loss: 0.2291 - accuracy: 0.9176 - val_loss: 0.3175 - val_accuracy: 0.8850\n",
            "Epoch 30/30\n",
            "1719/1719 [==============================] - 10s 6ms/step - loss: 0.2255 - accuracy: 0.9194 - val_loss: 0.2898 - val_accuracy: 0.8940\n"
          ]
        }
      ],
      "source": [
        "# Train the model using 'fit()' method.\n",
        "history = model.fit(X_train, y_train, epochs=30, validation_data=(X_valid, y_valid))"
      ]
    },
    {
      "cell_type": "markdown",
      "metadata": {
        "id": "wEZ_HQkEGsIL"
      },
      "source": [
        "By using `pandas`, you can plot the loss, the accuracy, the validation loss, and the validation accuracy in each epoch.\n",
        "\n",
        "You can show these information in a graph."
      ]
    },
    {
      "cell_type": "code",
      "execution_count": 26,
      "metadata": {
        "id": "Y3owGaMVGXPy"
      },
      "outputs": [],
      "source": [
        "# Import numpy, pandas and matplotlib library\n",
        "import numpy as np\n",
        "import pandas as pd\n",
        "import matplotlib.pyplot as plt"
      ]
    },
    {
      "cell_type": "code",
      "execution_count": 27,
      "metadata": {
        "id": "SkVVMeHYGrMy",
        "colab": {
          "base_uri": "https://localhost:8080/",
          "height": 451
        },
        "outputId": "77bbbb1c-c15a-4d07-e726-5c414219f5b9"
      },
      "outputs": [
        {
          "output_type": "display_data",
          "data": {
            "text/plain": [
              "<Figure size 800x500 with 1 Axes>"
            ],
            "image/png": "[encoded data removed]"
          },
          "metadata": {}
        }
      ],
      "source": [
        "# Plot training history using 'history' variable.\n",
        "pd.DataFrame(history.history).plot(figsize=(8,5))\n",
        "\n",
        "# Draw grid on the background of the plot.\n",
        "plt.grid(True)\n",
        "\n",
        "# Scailing axis(: y) to [0, 1]\n",
        "plt.gca().set_ylim(0,1)\n",
        "\n",
        "# Show the plot.\n",
        "plt.show()"
      ]
    },
    {
      "cell_type": "markdown",
      "metadata": {
        "id": "cN6TB_1bKFex"
      },
      "source": [
        "---\n",
        "### **Exercise 5: Evaluate the model and make a prediction**\n",
        "\n",
        "( This exercise is based on the example in Section \"*Training and evaluating the model, Using the model to make a prediction*\" in the textbook. )\n",
        "\n",
        "(💡TIP) : If you are not satisﬁed with the performance of the model, you can change the *hyperparameter* of the model.\n",
        "\n",
        "After tuning, you should evaluate the model to estimate the generalization error by using a member function called `evaluate()`.\n"
      ]
    },
    {
      "cell_type": "code",
      "execution_count": 28,
      "metadata": {
        "id": "acwsiv5-KEkp",
        "colab": {
          "base_uri": "https://localhost:8080/"
        },
        "outputId": "c6f4bc2f-5d08-46af-c004-1bcc3f16aed1"
      },
      "outputs": [
        {
          "output_type": "stream",
          "name": "stdout",
          "text": [
            "313/313 [==============================] - 1s 2ms/step - loss: 56.5375 - accuracy: 0.8550\n"
          ]
        },
        {
          "output_type": "execute_result",
          "data": {
            "text/plain": [
              "[56.53749465942383, 0.8550000190734863]"
            ]
          },
          "metadata": {},
          "execution_count": 28
        }
      ],
      "source": [
        "# Evaluate the model using test dataset.\n",
        "model.evaluate(X_test, y_test)"
      ]
    },
    {
      "cell_type": "markdown",
      "metadata": {
        "id": "5Bmu7HICKpbL"
      },
      "source": [
        "The first three instances of the test data will be used for prediction.\n",
        "\n",
        "As you can see, for each instance the model estimates one probability per class, from class 0 to class 9.\n",
        "\n",
        "For example, for the ﬁrst image it estimates that the probability of class 9 is 100% and the probabilities of the other classes are negligible."
      ]
    },
    {
      "cell_type": "code",
      "execution_count": 29,
      "metadata": {
        "id": "ByldM9FWKAkW",
        "colab": {
          "base_uri": "https://localhost:8080/"
        },
        "outputId": "7fd81d06-89e9-40a0-a06e-e6a4b3ef227c"
      },
      "outputs": [
        {
          "output_type": "stream",
          "name": "stdout",
          "text": [
            "1/1 [==============================] - 0s 199ms/step\n"
          ]
        },
        {
          "output_type": "execute_result",
          "data": {
            "text/plain": [
              "array([[0., 0., 0., 0., 0., 0., 0., 0., 0., 1.],\n",
              "       [0., 0., 1., 0., 0., 0., 0., 0., 0., 0.],\n",
              "       [0., 1., 0., 0., 0., 0., 0., 0., 0., 0.]], dtype=float32)"
            ]
          },
          "metadata": {},
          "execution_count": 29
        }
      ],
      "source": [
        "# Get first three instances of the X_test to use for prediction.\n",
        "X_new = X_test[:3]\n",
        "# Predict y (probability) using trained model\n",
        "y_proba = model.predict(X_new)\n",
        "y_proba.round(2)\n"
      ]
    },
    {
      "cell_type": "markdown",
      "metadata": {
        "id": "ASN4oh4BKzmj"
      },
      "source": [
        "If you only care about the class with the highest estimated probability (even if that probability is quite low),\n",
        "\n",
        "then you can use the `predict_classes()` method"
      ]
    },
    {
      "cell_type": "code",
      "execution_count": 30,
      "metadata": {
        "id": "DmYbp6f-Ky4s",
        "colab": {
          "base_uri": "https://localhost:8080/"
        },
        "outputId": "29c11119-670d-407f-885a-1481311e70dc"
      },
      "outputs": [
        {
          "output_type": "stream",
          "name": "stdout",
          "text": [
            "1/1 [==============================] - 0s 21ms/step\n",
            "[9 2 1]\n"
          ]
        }
      ],
      "source": [
        "# Predict probability using trained model\n",
        "y_proba = model.predict(X_new)\n",
        "# Get the value(class) with the highest probability.\n",
        "y_pred = np.argmax(y_proba, axis=1)\n",
        "print(y_pred)\n"
      ]
    },
    {
      "cell_type": "code",
      "source": [
        "import numpy as np\n",
        "print(np.array(class_names)[y_pred])"
      ],
      "metadata": {
        "colab": {
          "base_uri": "https://localhost:8080/"
        },
        "id": "cL3399t_9l1U",
        "outputId": "f6540f1a-b7fe-4730-a81e-056eb6266ce0"
      },
      "execution_count": 31,
      "outputs": [
        {
          "output_type": "stream",
          "name": "stdout",
          "text": [
            "['Ankle boot' 'Pullover' 'Trouser']\n"
          ]
        }
      ]
    },
    {
      "cell_type": "markdown",
      "metadata": {
        "id": "WMz5kh0qLA_O"
      },
      "source": [
        "*You can also see class name of the predicted output.*"
      ]
    },
    {
      "cell_type": "code",
      "execution_count": 32,
      "metadata": {
        "id": "ZOrxfoGdK--Z"
      },
      "outputs": [],
      "source": [
        "# Assign the class index to class name using class_names list defined above.\n",
        "class_names = [\"T-shirt/top\", \"Trouser\", \"Pullover\", \"Dress\", \"Coat\", \"Sandal\",\n",
        "               \"Shirt\", \"Sneaker\", \"Bag\", \"Ankle boot\"]"
      ]
    },
    {
      "cell_type": "markdown",
      "metadata": {
        "id": "B1ugd6x_LVwi"
      },
      "source": [
        "*y_test is the true class of x_test, so the same output of y_pred and y_new means that the model is exact.*"
      ]
    },
    {
      "cell_type": "code",
      "execution_count": 34,
      "metadata": {
        "id": "H7marfxHK_XR",
        "colab": {
          "base_uri": "https://localhost:8080/"
        },
        "outputId": "5c193eb1-c5db-416c-90a3-2890b3ce1df2"
      },
      "outputs": [
        {
          "output_type": "stream",
          "name": "stdout",
          "text": [
            "[9 2 1]\n",
            "['Ankle boot' 'Pullover' 'Trouser']\n"
          ]
        }
      ],
      "source": [
        "# Get first three instances of the y_test to check true class of X_new\n",
        "y_new = y_test[:3]\n",
        "print(y_new)\n",
        "print(np.array(class_names)[y_new])"
      ]
    },
    {
      "cell_type": "markdown",
      "metadata": {
        "id": "MxSlK_vULfR0"
      },
      "source": [
        "\n",
        "\n",
        "---\n",
        "\n",
        "\n",
        "### **Exercise 6: Building Regression MLP Using Sequential API**\n",
        "\n",
        "( This exercise is based on the example in Section \"*Building Regression MLP Using Sequential API*\" in the textbook. )\n",
        "\n",
        "Let’s consider the **California housing dataset** and model it by regression.\n",
        "\n",
        "> * California housing dataset samples\n",
        "\n",
        "\n",
        "<img src='https://drive.google.com/uc?id=1FJbZrKU2p7dpNyhXiOPTmGRX_VUTOqBq' width=800/>\n",
        "\n"
      ]
    },
    {
      "cell_type": "code",
      "execution_count": 35,
      "metadata": {
        "id": "_KdeY1KTLq9J"
      },
      "outputs": [],
      "source": [
        "# Import fetch_california_housing, train_test_split, StandardScaler from sklearn\n",
        "from sklearn.datasets import fetch_california_housing\n",
        "from sklearn.model_selection import train_test_split\n",
        "from sklearn.preprocessing import StandardScaler"
      ]
    },
    {
      "cell_type": "code",
      "source": [
        "# Load California housing dataset from 'fetch_california_housing()'.\n",
        "housing = fetch_california_housing()"
      ],
      "metadata": {
        "id": "ZU1f8lbM5obi"
      },
      "execution_count": 36,
      "outputs": []
    },
    {
      "cell_type": "markdown",
      "metadata": {
        "id": "uXKFUlrNLwTo"
      },
      "source": [
        "*After loading the data, we split it into a training set, a validation set, and a test set, and we scale all the features.*"
      ]
    },
    {
      "cell_type": "code",
      "execution_count": 37,
      "metadata": {
        "id": "4rkAGlhpL2-H"
      },
      "outputs": [],
      "source": [
        "# Split the dataset into train set(train_full) and test set(test).\n",
        "X_train_full, X_test, y_train_full, y_test = train_test_split(housing.data,\n",
        "                                                              housing.target)\n",
        "# Split the train set(train_full) into train set(train) and validation set(valid)\n",
        "X_train, X_valid, y_train, y_valid = train_test_split(X_train_full,\n",
        "                                                      y_train_full)\n",
        "# Every columns in the dataset have different scale, so we will apply standardization(표준화) to the dataset with mean=0, variance=1\n",
        "scaler = StandardScaler()\n",
        "X_train = scaler.fit_transform(X_train)\n",
        "X_valid = scaler.transform(X_valid)\n",
        "X_test = scaler.transform(X_test)"
      ]
    },
    {
      "cell_type": "markdown",
      "metadata": {
        "id": "b_UijlxuMPP0"
      },
      "source": [
        "Using the Sequential API to build, train, evaluate, and use a regression MLP to make predictions is quite similar to what we did for classiﬁcation class (in Fashion MNIST).\n",
        "\n",
        "* The differences are:\n",
        "  * The output layer has a single neuron.\n",
        "  * Mean squared error is used in the loss function.\n",
        "  * Since the dataset is quite noisy, we just use a single hidden layer with fewer neurons in order to avoid overﬁtting."
      ]
    },
    {
      "cell_type": "code",
      "execution_count": 38,
      "metadata": {
        "id": "JntHDb1sMLk8"
      },
      "outputs": [],
      "source": [
        "# Define the model with dense layers.\n",
        "model = keras.models.Sequential([keras.layers.Dense(30, activation=\"relu\",\n",
        "                                                    input_shape=X_train.shape[1:]),\n",
        "                                 keras.layers.Dense(1)])\n",
        "\n",
        "# Complie the model with mean squared error(mse) as loss function and stocastic gradient descent(sgd) as optimizer.\n",
        "model.compile(loss=\"mean_squared_error\", optimizer=\"sgd\")\n"
      ]
    },
    {
      "cell_type": "code",
      "source": [
        "# Train the model\n",
        "history = model.fit(X_train, y_train, epochs=20, validation_data=(X_valid, y_valid))"
      ],
      "metadata": {
        "id": "2-X9FdnL-YyG",
        "colab": {
          "base_uri": "https://localhost:8080/"
        },
        "outputId": "472cf764-47d2-46c7-dd62-1fb3d6bd4e22"
      },
      "execution_count": 39,
      "outputs": [
        {
          "output_type": "stream",
          "name": "stdout",
          "text": [
            "Epoch 1/20\n",
            "363/363 [==============================] - 2s 4ms/step - loss: 0.8335 - val_loss: 0.5085\n",
            "Epoch 2/20\n",
            "363/363 [==============================] - 2s 5ms/step - loss: 0.5069 - val_loss: 0.4542\n",
            "Epoch 3/20\n",
            "363/363 [==============================] - 1s 4ms/step - loss: 0.5024 - val_loss: 0.4495\n",
            "Epoch 4/20\n",
            "363/363 [==============================] - 1s 3ms/step - loss: 0.4813 - val_loss: 0.4289\n",
            "Epoch 5/20\n",
            "363/363 [==============================] - 2s 7ms/step - loss: 0.4606 - val_loss: 0.4107\n",
            "Epoch 6/20\n",
            "363/363 [==============================] - 2s 5ms/step - loss: 0.4429 - val_loss: 0.4045\n",
            "Epoch 7/20\n",
            "363/363 [==============================] - 1s 3ms/step - loss: 0.4401 - val_loss: 0.4044\n",
            "Epoch 8/20\n",
            "363/363 [==============================] - 1s 4ms/step - loss: 0.4322 - val_loss: 0.3928\n",
            "Epoch 9/20\n",
            "363/363 [==============================] - 1s 3ms/step - loss: 0.4655 - val_loss: 0.3952\n",
            "Epoch 10/20\n",
            "363/363 [==============================] - 1s 3ms/step - loss: 0.4313 - val_loss: 0.4381\n",
            "Epoch 11/20\n",
            "363/363 [==============================] - 1s 3ms/step - loss: 0.4210 - val_loss: 0.3967\n",
            "Epoch 12/20\n",
            "363/363 [==============================] - 1s 3ms/step - loss: 0.4281 - val_loss: 0.3808\n",
            "Epoch 13/20\n",
            "363/363 [==============================] - 1s 4ms/step - loss: 0.4200 - val_loss: 0.8213\n",
            "Epoch 14/20\n",
            "363/363 [==============================] - 1s 3ms/step - loss: 0.4705 - val_loss: 0.3795\n",
            "Epoch 15/20\n",
            "363/363 [==============================] - 1s 3ms/step - loss: 0.4165 - val_loss: 0.3904\n",
            "Epoch 16/20\n",
            "363/363 [==============================] - 1s 3ms/step - loss: 0.4053 - val_loss: 0.3804\n",
            "Epoch 17/20\n",
            "363/363 [==============================] - 2s 7ms/step - loss: 0.4012 - val_loss: 0.3769\n",
            "Epoch 18/20\n",
            "363/363 [==============================] - 2s 6ms/step - loss: 0.4029 - val_loss: 0.3744\n",
            "Epoch 19/20\n",
            "363/363 [==============================] - 1s 3ms/step - loss: 0.4009 - val_loss: 0.3770\n",
            "Epoch 20/20\n",
            "363/363 [==============================] - 1s 3ms/step - loss: 0.3988 - val_loss: 0.3691\n"
          ]
        }
      ]
    },
    {
      "cell_type": "code",
      "source": [
        "# Evaluate the model using test dataset\n",
        "mse_test = model.evaluate(X_test, y_test)\n",
        "print('MSE score: ', mse_test)"
      ],
      "metadata": {
        "id": "flnKfW2b-btV",
        "colab": {
          "base_uri": "https://localhost:8080/"
        },
        "outputId": "245d4b7b-6d76-420c-ab8e-ff494d193061"
      },
      "execution_count": 40,
      "outputs": [
        {
          "output_type": "stream",
          "name": "stdout",
          "text": [
            "162/162 [==============================] - 1s 5ms/step - loss: 0.3804\n",
            "MSE score:  0.38039013743400574\n"
          ]
        }
      ]
    },
    {
      "cell_type": "code",
      "source": [
        "# Get first three instances of the X_test to use for prediction.\n",
        "X_new = X_test[:3]\n",
        "y_pred = model.predict(X_new)\n",
        "print(y_pred.round(2))"
      ],
      "metadata": {
        "id": "hxWWkXHk_aGL",
        "colab": {
          "base_uri": "https://localhost:8080/"
        },
        "outputId": "02a513d1-2ebd-4a64-8092-3f28b3a58f0d"
      },
      "execution_count": 41,
      "outputs": [
        {
          "output_type": "stream",
          "name": "stdout",
          "text": [
            "1/1 [==============================] - 0s 76ms/step\n",
            "[[1.1 ]\n",
            " [1.48]\n",
            " [2.99]]\n"
          ]
        }
      ]
    },
    {
      "cell_type": "markdown",
      "metadata": {
        "id": "5xTjeBgrOCMJ"
      },
      "source": [
        "\n",
        "\n",
        "---\n",
        "\n",
        "\n",
        "### **Exercise 7: Building Complex Models Using the Functional API**\n",
        "\n",
        "( This exercise is based on the example in Section \"*Building Complex Models Using the Functional API*\" in the textbook. )\n",
        "\n",
        "A **Wide & Deep neural network** is one example of nonsequential neural networks.\n",
        "\n",
        "**It connects all or part of the inputs directly to the output layer.**\n",
        "\n",
        "1. Create a \"`Input`\" object.\n",
        "\n",
        "2. Create two \"`Dense`\" layers with 30 neurons.\n",
        "\n",
        "3. Create a concatenate layer \"`concat`\" to concatenate the input and the output of the second hidden layer.\n",
        "\n",
        "4. Create an \"`output`\" layer.\n",
        "\n",
        "5. Create a model."
      ]
    },
    {
      "cell_type": "code",
      "source": [
        "# Practice to build complex model using functional API\n",
        "### 1. Create a \"input\" object\n",
        "input_ = keras.layers.Input(shape=X_train.shape[1:])\n",
        "### 2. Create two \"Dense\" layers with 30 neurons.\n",
        "hidden1 = keras.layers.Dense(30, activation=\"relu\")(input_)\n",
        "hidden2 = keras.layers.Dense(30, activation=\"relu\")(hidden1)\n",
        "\n",
        "### 3. Create a concatenate layer \"concat\" to concatenate the input and the output of the second hidden layer.\n",
        "concat = keras.layers.Concatenate()([input_, hidden2])\n",
        "\n",
        "### 4. Create an \"output\" layer.\n",
        "output = keras.layers.Dense(1)(concat)\n",
        "\n",
        "### 5. Create a model.\n",
        "model_sample = keras.Model(inputs=[input_], outputs=[output])"
      ],
      "metadata": {
        "id": "zPyjHohHnt9b"
      },
      "execution_count": 42,
      "outputs": []
    },
    {
      "cell_type": "markdown",
      "metadata": {
        "id": "aqIkO1kOOz5M"
      },
      "source": [
        "*The input layer could contain a subset of features of the entire input dataset. ( You can check the figure in the textbook. )*"
      ]
    },
    {
      "cell_type": "code",
      "execution_count": 43,
      "metadata": {
        "id": "o9EB4befO5Gl"
      },
      "outputs": [],
      "source": [
        "# Define a input layer(variable name= 'input_A')(layer name= \"wide_input\"). Input shape of the input layer is 1D array with 5 features(columns).\n",
        "input_A = keras.layers.Input(shape=[5], name=\"wide_input\")\n",
        "\n",
        "# Define a input layer(variable name= 'input_B')(layer name= \"deep_input\"). Input shape of the input layer is 1D array with 6 features(columns).\n",
        "input_B = keras.layers.Input(shape=[6], name=\"deep_input\")\n",
        "\n",
        "# Define a hidden layer(hidden1) with 30 hidden units. The hidden layer takes input from 'input_B' (input_B -> hidden1)\n",
        "hidden1 = keras.layers.Dense(30, activation=\"relu\")(input_B)\n",
        "\n",
        "# Define another hidden layer(hidden2) with 30 hidden units. The hidden layer takes input from 'hidden1' (hidden1 -> hidden2)\n",
        "hidden2 = keras.layers.Dense(30, activation=\"relu\")(hidden1)\n",
        "\n",
        "# Concat 'input_A' and 'hidden2' to be model structure like (input_A -> hidden2)\n",
        "concat = keras.layers.concatenate([input_A, hidden2])\n",
        "\n",
        "# Define output layer with 1 hidden unit. The output layer get input from 'concat'. (concat -> output)\n",
        "output = keras.layers.Dense(1, name=\"output\")(concat)\n",
        "\n",
        "# Create model that takes inputs from both 'input_A' and 'input_B', and return output from 'output'\n",
        "model = keras.Model(inputs=[input_A, input_B], outputs=[output])"
      ]
    },
    {
      "cell_type": "markdown",
      "metadata": {
        "id": "HrHk_k6QO9PW"
      },
      "source": [
        "*Compile and train the complex model.*"
      ]
    },
    {
      "cell_type": "code",
      "execution_count": 45,
      "metadata": {
        "id": "wKMQaJFVO5RM",
        "colab": {
          "base_uri": "https://localhost:8080/"
        },
        "outputId": "deec50d0-f805-44be-c105-d8ecf4be270d"
      },
      "outputs": [
        {
          "output_type": "stream",
          "name": "stderr",
          "text": [
            "WARNING:absl:`lr` is deprecated in Keras optimizer, please use `learning_rate` or use the legacy optimizer, e.g.,tf.keras.optimizers.legacy.SGD.\n"
          ]
        }
      ],
      "source": [
        "# Compile the model using 'mse' as loss function and 'sgd' as optimizer.\n",
        "model.compile(loss=\"mse\", optimizer=keras.optimizers.SGD(lr=1e-3))"
      ]
    },
    {
      "cell_type": "markdown",
      "source": [
        "Do you remember that California housing dataset consist of total 9 columns(features)?\n",
        "\n",
        "* But 'input_A' takes input like 1D array with 5 features, so we need to create dataset (train_A) consisting of the five columns.\n",
        "\n",
        "* Similarly, we need to create dataset (train_B) consisting of the six columns to fit input format of 'input_B'\n",
        "\n",
        "(💡NOTE) : X_train[:, :5] means that only the last 5 columns are fetched for every row.\n",
        "\n",
        "(💡NOTE) : X_train[:, 2:] means to get the columns from after the second column to the last column for every rows."
      ],
      "metadata": {
        "id": "Ym2I9PF9KNnl"
      }
    },
    {
      "cell_type": "code",
      "source": [
        "# Split dataset to fit each input format of 'input_A' and 'input_B'.\n",
        "X_train_A, X_train_B = X_train[:, :5], X_train[:, 2:]\n",
        "X_valid_A, X_valid_B = X_valid[:, :5], X_valid[:, 2:]\n",
        "X_test_A, X_test_B = X_test[:, :5], X_test[:, 2:]\n",
        "X_new_A, X_new_B = X_test_A[:3], X_test_B[:3]\n",
        "\n",
        "# Check the number of features of 'X_train_A' and 'X_train_B' respectively.\n",
        "print(\"The number of columns in X_train_A: \", len(X_train_A[0]))\n",
        "print(\"The number of columns in X_train_B: \", len(X_train_B[0]))"
      ],
      "metadata": {
        "id": "odpr1vlOIaGg",
        "colab": {
          "base_uri": "https://localhost:8080/"
        },
        "outputId": "1ba969e9-32f8-4a74-a9d7-a5a71d1886f0"
      },
      "execution_count": 46,
      "outputs": [
        {
          "output_type": "stream",
          "name": "stdout",
          "text": [
            "The number of columns in X_train_A:  5\n",
            "The number of columns in X_train_B:  6\n"
          ]
        }
      ]
    },
    {
      "cell_type": "code",
      "source": [
        "# Train the model\n",
        "history = model.fit((X_train_A, X_train_B), y_train, epochs=20, validation_data=((X_valid_A, X_valid_B), y_valid))"
      ],
      "metadata": {
        "id": "ffYrZNesIZKV",
        "colab": {
          "base_uri": "https://localhost:8080/"
        },
        "outputId": "8b9f6859-18c9-4e89-f021-328ec9f24fe4"
      },
      "execution_count": 47,
      "outputs": [
        {
          "output_type": "stream",
          "name": "stdout",
          "text": [
            "Epoch 1/20\n",
            "363/363 [==============================] - 3s 5ms/step - loss: 0.8899 - val_loss: 0.5878\n",
            "Epoch 2/20\n",
            "363/363 [==============================] - 2s 4ms/step - loss: 0.5818 - val_loss: 0.5379\n",
            "Epoch 3/20\n",
            "363/363 [==============================] - 2s 5ms/step - loss: 0.6204 - val_loss: 0.4905\n",
            "Epoch 4/20\n",
            "363/363 [==============================] - 1s 4ms/step - loss: 0.5429 - val_loss: 0.4610\n",
            "Epoch 5/20\n",
            "363/363 [==============================] - 1s 4ms/step - loss: 0.4989 - val_loss: 0.4418\n",
            "Epoch 6/20\n",
            "363/363 [==============================] - 1s 3ms/step - loss: 0.4871 - val_loss: 0.4367\n",
            "Epoch 7/20\n",
            "363/363 [==============================] - 5s 13ms/step - loss: 0.4722 - val_loss: 0.4244\n",
            "Epoch 8/20\n",
            "363/363 [==============================] - 2s 7ms/step - loss: 0.4644 - val_loss: 0.4161\n",
            "Epoch 9/20\n",
            "363/363 [==============================] - 2s 5ms/step - loss: 0.4484 - val_loss: 0.4033\n",
            "Epoch 10/20\n",
            "363/363 [==============================] - 2s 5ms/step - loss: 0.4583 - val_loss: 0.3989\n",
            "Epoch 11/20\n",
            "363/363 [==============================] - 1s 4ms/step - loss: 0.4397 - val_loss: 0.3949\n",
            "Epoch 12/20\n",
            "363/363 [==============================] - 1s 4ms/step - loss: 0.4294 - val_loss: 0.3821\n",
            "Epoch 13/20\n",
            "363/363 [==============================] - 2s 5ms/step - loss: 0.4173 - val_loss: 0.3789\n",
            "Epoch 14/20\n",
            "363/363 [==============================] - 3s 7ms/step - loss: 0.4104 - val_loss: 0.3744\n",
            "Epoch 15/20\n",
            "363/363 [==============================] - 2s 6ms/step - loss: 0.4083 - val_loss: 0.3719\n",
            "Epoch 16/20\n",
            "363/363 [==============================] - 1s 4ms/step - loss: 0.3992 - val_loss: 0.3584\n",
            "Epoch 17/20\n",
            "363/363 [==============================] - 2s 4ms/step - loss: 0.4133 - val_loss: 0.3541\n",
            "Epoch 18/20\n",
            "363/363 [==============================] - 2s 6ms/step - loss: 0.3924 - val_loss: 0.3631\n",
            "Epoch 19/20\n",
            "363/363 [==============================] - 1s 4ms/step - loss: 0.3833 - val_loss: 0.3789\n",
            "Epoch 20/20\n",
            "363/363 [==============================] - 1s 4ms/step - loss: 0.3787 - val_loss: 0.3549\n"
          ]
        }
      ]
    },
    {
      "cell_type": "code",
      "source": [
        "# Evaluate the trained model\n",
        "mse_test = model.evaluate((X_test_A, X_test_B), y_test)\n",
        "print(\"score: \", mse_test)"
      ],
      "metadata": {
        "id": "AeY3THSRNQ4v",
        "colab": {
          "base_uri": "https://localhost:8080/"
        },
        "outputId": "de1ae405-dad8-452c-ab85-daef88b09adb"
      },
      "execution_count": 49,
      "outputs": [
        {
          "output_type": "stream",
          "name": "stdout",
          "text": [
            "162/162 [==============================] - 0s 3ms/step - loss: 0.3733\n",
            "score:  0.373269647359848\n"
          ]
        }
      ]
    },
    {
      "cell_type": "code",
      "execution_count": 50,
      "metadata": {
        "id": "84fr-AgHvmWq",
        "colab": {
          "base_uri": "https://localhost:8080/"
        },
        "outputId": "a52f5699-18e2-4600-8e90-5d472af7e55d"
      },
      "outputs": [
        {
          "output_type": "stream",
          "name": "stdout",
          "text": [
            "1/1 [==============================] - 0s 78ms/step\n",
            "[[1.063956 ]\n",
            " [1.7331585]\n",
            " [2.6560872]]\n"
          ]
        }
      ],
      "source": [
        "# Predict y using the trained model\n",
        "y_pred = model.predict((X_new_A, X_new_B))\n",
        "print(y_pred)"
      ]
    },
    {
      "cell_type": "markdown",
      "metadata": {
        "id": "c99KKNx8PGPR"
      },
      "source": [
        "There are many use cases in which you may want to have **multiple outputs**:\n",
        "- The task may demand it (e.g., regression and classiﬁcation).\n",
        "- Simiarly, you may have multiple independent tasks based on the same data.\n",
        "- Regularization technique.\n",
        "\n",
        "\n",
        "Adding extra outputs is quite easy:\n",
        "just connect them to the appropriate layers and add them to your model's list of outputs."
      ]
    },
    {
      "cell_type": "code",
      "execution_count": 51,
      "metadata": {
        "id": "jKhE0akIO5UE"
      },
      "outputs": [],
      "source": [
        "# We reuse input layers and hidden layers defined above, so we only need to define new output layers to return multiple outputs.\n",
        "output = keras.layers.Dense(1, name=\"main_output\")(concat)\n",
        "aux_output = keras.layers.Dense(1, name=\"aux_output\")(hidden2)\n",
        "# Create model using new output layers.\n",
        "model = keras.Model(inputs=[input_A, input_B], outputs=[output, aux_output])"
      ]
    },
    {
      "cell_type": "code",
      "execution_count": 52,
      "metadata": {
        "id": "wPNrk1HPPWb6",
        "colab": {
          "base_uri": "https://localhost:8080/"
        },
        "outputId": "83348122-60e1-4661-c13f-60468fd2d4d2"
      },
      "outputs": [
        {
          "output_type": "stream",
          "name": "stdout",
          "text": [
            "Epoch 1/20\n",
            "363/363 [==============================] - 3s 4ms/step - loss: 0.7472 - main_output_loss: 0.6521 - aux_output_loss: 1.6033 - val_loss: 0.4752 - val_main_output_loss: 0.4250 - val_aux_output_loss: 0.9279\n",
            "Epoch 2/20\n",
            "363/363 [==============================] - 1s 3ms/step - loss: 0.4865 - main_output_loss: 0.4456 - aux_output_loss: 0.8541 - val_loss: 0.4276 - val_main_output_loss: 0.3942 - val_aux_output_loss: 0.7279\n",
            "Epoch 3/20\n",
            "363/363 [==============================] - 1s 3ms/step - loss: 0.4577 - main_output_loss: 0.4283 - aux_output_loss: 0.7222 - val_loss: 0.4156 - val_main_output_loss: 0.3885 - val_aux_output_loss: 0.6597\n",
            "Epoch 4/20\n",
            "363/363 [==============================] - 1s 3ms/step - loss: 0.4400 - main_output_loss: 0.4148 - aux_output_loss: 0.6662 - val_loss: 0.4037 - val_main_output_loss: 0.3817 - val_aux_output_loss: 0.6023\n",
            "Epoch 5/20\n",
            "363/363 [==============================] - 1s 2ms/step - loss: 0.4275 - main_output_loss: 0.4054 - aux_output_loss: 0.6259 - val_loss: 0.3866 - val_main_output_loss: 0.3664 - val_aux_output_loss: 0.5678\n",
            "Epoch 6/20\n",
            "363/363 [==============================] - 2s 5ms/step - loss: 0.4186 - main_output_loss: 0.3990 - aux_output_loss: 0.5958 - val_loss: 0.3940 - val_main_output_loss: 0.3754 - val_aux_output_loss: 0.5614\n",
            "Epoch 7/20\n",
            "363/363 [==============================] - 1s 3ms/step - loss: 0.4107 - main_output_loss: 0.3925 - aux_output_loss: 0.5745 - val_loss: 0.3771 - val_main_output_loss: 0.3598 - val_aux_output_loss: 0.5324\n",
            "Epoch 8/20\n",
            "363/363 [==============================] - 2s 5ms/step - loss: 0.4041 - main_output_loss: 0.3873 - aux_output_loss: 0.5554 - val_loss: 0.3719 - val_main_output_loss: 0.3555 - val_aux_output_loss: 0.5197\n",
            "Epoch 9/20\n",
            "363/363 [==============================] - 2s 5ms/step - loss: 0.4045 - main_output_loss: 0.3888 - aux_output_loss: 0.5455 - val_loss: 0.3601 - val_main_output_loss: 0.3439 - val_aux_output_loss: 0.5055\n",
            "Epoch 10/20\n",
            "363/363 [==============================] - 1s 3ms/step - loss: 0.3979 - main_output_loss: 0.3827 - aux_output_loss: 0.5347 - val_loss: 0.3544 - val_main_output_loss: 0.3400 - val_aux_output_loss: 0.4839\n",
            "Epoch 11/20\n",
            "363/363 [==============================] - 1s 3ms/step - loss: 0.3908 - main_output_loss: 0.3762 - aux_output_loss: 0.5226 - val_loss: 0.3536 - val_main_output_loss: 0.3390 - val_aux_output_loss: 0.4844\n",
            "Epoch 12/20\n",
            "363/363 [==============================] - 1s 3ms/step - loss: 0.3909 - main_output_loss: 0.3770 - aux_output_loss: 0.5164 - val_loss: 0.8272 - val_main_output_loss: 0.8589 - val_aux_output_loss: 0.5416\n",
            "Epoch 13/20\n",
            "363/363 [==============================] - 2s 6ms/step - loss: 0.3909 - main_output_loss: 0.3774 - aux_output_loss: 0.5124 - val_loss: 0.3461 - val_main_output_loss: 0.3322 - val_aux_output_loss: 0.4718\n",
            "Epoch 14/20\n",
            "363/363 [==============================] - 2s 5ms/step - loss: 0.3826 - main_output_loss: 0.3690 - aux_output_loss: 0.5048 - val_loss: 0.3566 - val_main_output_loss: 0.3428 - val_aux_output_loss: 0.4805\n",
            "Epoch 15/20\n",
            "363/363 [==============================] - 2s 6ms/step - loss: 0.3781 - main_output_loss: 0.3647 - aux_output_loss: 0.4982 - val_loss: 0.3417 - val_main_output_loss: 0.3284 - val_aux_output_loss: 0.4621\n",
            "Epoch 16/20\n",
            "363/363 [==============================] - 2s 5ms/step - loss: 0.3776 - main_output_loss: 0.3646 - aux_output_loss: 0.4940 - val_loss: 0.3573 - val_main_output_loss: 0.3438 - val_aux_output_loss: 0.4793\n",
            "Epoch 17/20\n",
            "363/363 [==============================] - 2s 5ms/step - loss: 0.4037 - main_output_loss: 0.3919 - aux_output_loss: 0.5104 - val_loss: 0.3603 - val_main_output_loss: 0.3442 - val_aux_output_loss: 0.5047\n",
            "Epoch 18/20\n",
            "363/363 [==============================] - 1s 4ms/step - loss: 0.4006 - main_output_loss: 0.3881 - aux_output_loss: 0.5125 - val_loss: 0.3378 - val_main_output_loss: 0.3222 - val_aux_output_loss: 0.4781\n",
            "Epoch 19/20\n",
            "363/363 [==============================] - 1s 4ms/step - loss: 0.3748 - main_output_loss: 0.3619 - aux_output_loss: 0.4902 - val_loss: 0.3344 - val_main_output_loss: 0.3216 - val_aux_output_loss: 0.4490\n",
            "Epoch 20/20\n",
            "363/363 [==============================] - 1s 3ms/step - loss: 0.3664 - main_output_loss: 0.3539 - aux_output_loss: 0.4784 - val_loss: 0.3379 - val_main_output_loss: 0.3250 - val_aux_output_loss: 0.4540\n"
          ]
        }
      ],
      "source": [
        "# Complie the model using 'mse' as loss function for each output and 'sgd' as optimizer.\n",
        "model.compile(loss=[\"mse\", \"mse\"], loss_weights=[0.9, 0.1], optimizer=\"sgd\")\n",
        "\n",
        "# Train the model.\n",
        "history = model.fit([X_train_A, X_train_B], [y_train, y_train], epochs=20,\n",
        "                    validation_data=([X_valid_A, X_valid_B], [y_valid, y_valid]))"
      ]
    },
    {
      "cell_type": "code",
      "execution_count": 53,
      "metadata": {
        "id": "J8Vx9cWKPWfR",
        "colab": {
          "base_uri": "https://localhost:8080/"
        },
        "outputId": "b31ea252-79d0-408f-b2d8-63c02dcc6a0a"
      },
      "outputs": [
        {
          "output_type": "stream",
          "name": "stdout",
          "text": [
            "162/162 [==============================] - 0s 3ms/step - loss: 0.3576 - main_output_loss: 0.3448 - aux_output_loss: 0.4723\n",
            "total loss: 0.35759425163269043₩nmain loss: 0.34484779834747314₩naux loss: 0.47231218218803406\n"
          ]
        }
      ],
      "source": [
        "# Evaluate the model and check each loss.\n",
        "\n",
        "total_loss, main_loss, aux_loss = model.evaluate([X_test_A, X_test_B], [y_test, y_test])\n",
        "print('total loss: {}₩nmain loss: {}₩naux loss: {}'.format(total_loss, main_loss, aux_loss))"
      ]
    },
    {
      "cell_type": "code",
      "execution_count": 55,
      "metadata": {
        "id": "-WboUz67PWi7",
        "colab": {
          "base_uri": "https://localhost:8080/"
        },
        "outputId": "6a2730b4-3e68-4e59-b282-d2bb628da722"
      },
      "outputs": [
        {
          "output_type": "stream",
          "name": "stdout",
          "text": [
            "1/1 [==============================] - 0s 35ms/step\n",
            "output of `main_output layer` : \n",
            " [[1.0327017]\n",
            " [1.6487103]\n",
            " [2.727264 ]]\n",
            "output of `aux_output layer` : \n",
            " [[1.0823263]\n",
            " [1.386531 ]\n",
            " [2.772372 ]]\n"
          ]
        }
      ],
      "source": [
        "# Predict the model for X_new_A and X_new_B.\n",
        "y_pred_main, y_pred_aux = model.predict([X_new_A, X_new_B])\n",
        "print('output of `main_output layer` : \\n', y_pred_main)\n",
        "print('output of `aux_output layer` : \\n', y_pred_aux)"
      ]
    },
    {
      "cell_type": "code",
      "execution_count": null,
      "metadata": {
        "id": "uN9yBLHMPWl4"
      },
      "outputs": [],
      "source": []
    }
  ],
  "metadata": {
    "colab": {
      "provenance": []
    },
    "kernelspec": {
      "display_name": "Python 3",
      "name": "python3"
    },
    "language_info": {
      "name": "python"
    }
  },
  "nbformat": 4,
  "nbformat_minor": 0
}