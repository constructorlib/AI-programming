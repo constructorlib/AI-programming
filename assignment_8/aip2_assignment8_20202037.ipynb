{
  "cells": [
    {
      "cell_type": "markdown",
      "metadata": {
        "id": "x2Icb7NjEJrv"
      },
      "source": [
        "# **Problem 1 : Write the code from “Exercise 0” to “Exercise 4” described in the class.**"
      ]
    },
    {
      "cell_type": "markdown",
      "metadata": {
        "id": "DfMsZu5ae-ML"
      },
      "source": [
        "**Exercise 1: TensorFlow Implementation (Filters)**"
      ]
    },
    {
      "cell_type": "code",
      "execution_count": null,
      "metadata": {
        "id": "QirfmvJDe0oe"
      },
      "outputs": [],
      "source": [
        "# import tensorflor and keras\n",
        "# Change the runtime type to CPU ( Run Time -> Run Time Type -> CPU )\n",
        "import tensorflow as tf\n",
        "from tensorflow import keras"
      ]
    },
    {
      "cell_type": "code",
      "execution_count": null,
      "metadata": {
        "id": "PGkO1gV3fJoW"
      },
      "outputs": [],
      "source": [
        "# import numpy and os\n",
        "import numpy as np\n",
        "import os"
      ]
    },
    {
      "cell_type": "code",
      "execution_count": null,
      "metadata": {
        "id": "9QtsnBXcfMuV"
      },
      "outputs": [],
      "source": [
        "# import matplotlib and matplotlib.pyplot\n",
        "import matplotlib as mpl\n",
        "import matplotlib.pyplot as plt"
      ]
    },
    {
      "cell_type": "code",
      "execution_count": null,
      "metadata": {
        "id": "hZ5mUISlfPWY"
      },
      "outputs": [],
      "source": [
        "# import sklearn and load_sample_image from sklearn.datasets\n",
        "import sklearn\n",
        "from sklearn.datasets import load_sample_image"
      ]
    },
    {
      "cell_type": "code",
      "execution_count": null,
      "metadata": {
        "id": "jUa0ZFkNfUgC"
      },
      "outputs": [],
      "source": [
        "# normalize the china and flower data\n",
        "china = load_sample_image(\"china.jpg\")/255\n",
        "flower = load_sample_image(\"flower.jpg\")/255\n",
        "images = np.array([china, flower])"
      ]
    },
    {
      "cell_type": "code",
      "execution_count": null,
      "metadata": {
        "id": "ERTXF1zSfZhR"
      },
      "outputs": [],
      "source": [
        "batch_size, height, width, channels = images.shape\n",
        "print(\"batch_size : \",batch_size,\"\\nheight * width : \", height,\"*\",width,\"\\nchannels :\", channels)"
      ]
    },
    {
      "cell_type": "code",
      "execution_count": null,
      "metadata": {
        "id": "mEw6_kuIf4AB"
      },
      "outputs": [],
      "source": [
        "plt.imshow(images[0][:,:,0], cmap='gray')\n",
        "plt.show()\n",
        "plt.imshow(images[1][:,:,0], cmap='gray')\n",
        "plt.show()"
      ]
    },
    {
      "cell_type": "code",
      "execution_count": null,
      "metadata": {
        "id": "aq3UkuqTf7SW"
      },
      "outputs": [],
      "source": [
        "# Create 2 filters\n",
        "filters = np.zeros(shape=(7, 7, channels, 2), dtype=np.float32)\n",
        "filters[:, 3, :, 0] = 1 # vertical line\n",
        "filters[3, :, :, 1] = 1 # horizontal line"
      ]
    },
    {
      "cell_type": "code",
      "execution_count": null,
      "metadata": {
        "id": "wLqwUga9gFtx"
      },
      "outputs": [],
      "source": [
        "# Visualizing\n",
        "plt.imshow(filters[:, :, 0, 0],cmap=\"gray\") # First filter\n",
        "plt.show()\n",
        "plt.imshow(filters[:, :, 0, 1],cmap=\"gray\") # Second filter\n",
        "plt.show()"
      ]
    },
    {
      "cell_type": "code",
      "execution_count": null,
      "metadata": {
        "id": "wP17M_IEgIWp"
      },
      "outputs": [],
      "source": [
        "outputs = tf.nn.conv2d(images, filters, strides=1, padding=\"SAME\")\n",
        "\n",
        "plt.imshow(outputs[0, :, :, 0], cmap=\"gray\") # plot 1st image's 1st feature map\n",
        "plt.show()\n",
        "plt.imshow(outputs[0, :, :, 1], cmap=\"gray\") # plot 1st image's 2nd feature map\n",
        "plt.show()"
      ]
    },
    {
      "cell_type": "code",
      "execution_count": null,
      "metadata": {
        "id": "85ZRsruLgSk1"
      },
      "outputs": [],
      "source": [
        "# Function for cropping\n",
        "def crop(images):\n",
        "  return images[150:220, 130:250]"
      ]
    },
    {
      "cell_type": "code",
      "execution_count": null,
      "metadata": {
        "id": "ustNGMYEgZMa"
      },
      "outputs": [],
      "source": [
        "print(\"Input\")\n",
        "plt.imshow(crop(images[0, :, :, 0]),cmap=\"gray\")\n",
        "plt.show()"
      ]
    },
    {
      "cell_type": "code",
      "execution_count": null,
      "metadata": {
        "id": "b4n1noo9ga09"
      },
      "outputs": [],
      "source": [
        "for feature_map_index, filename in enumerate([\"china_vertical\",\"china_horizontal\"]):\n",
        "    print(filename)\n",
        "    plt.imshow(crop(outputs[0, :, :, feature_map_index]),cmap=\"gray\")\n",
        "    plt.show()"
      ]
    },
    {
      "cell_type": "markdown",
      "metadata": {
        "id": "ZJgiGoM4gjsL"
      },
      "source": [
        "**Exercise 2: TensorFlow Implementation (Pooling Layers)**"
      ]
    },
    {
      "cell_type": "code",
      "execution_count": null,
      "metadata": {
        "id": "eOe1Ose-ggnu"
      },
      "outputs": [],
      "source": [
        "# pooling layer\n",
        "max_pool = keras.layers.MaxPool2D(pool_size=2,dtype=\"float64\")\n",
        "outputs = max_pool(images)\n",
        "plt.imshow(images[0, :, :, 0], cmap=\"gray\")\n",
        "plt.show()\n",
        "print(\"Input's H*W : \",images[0, :, :, 0].shape)\n",
        "plt.imshow(outputs[0, :, :, 0], cmap=\"gray\")\n",
        "plt.show()\n",
        "print(\"Output's H*W : \",outputs[0, :, :, 0].shape)"
      ]
    },
    {
      "cell_type": "code",
      "execution_count": null,
      "metadata": {
        "id": "MXVCauRXgwqN"
      },
      "outputs": [],
      "source": [
        "cropped_images = np.array([crop(image) for image in images], dtype=np.float32)\n",
        "output = max_pool(cropped_images)\n",
        "# Show the figures side-by-side in a grid\n",
        "fig = plt.figure(figsize=(12, 8))\n",
        "gs = mpl.gridspec.GridSpec(nrows=1, ncols=2, width_ratios=[2, 1])\n",
        "ax1 = fig.add_subplot(gs[0, 0])\n",
        "ax1.set_title(\"Input\", fontsize=14)\n",
        "ax1.imshow(cropped_images[0]) # plot the 1st image\n",
        "ax1.axis(\"off\")\n",
        "ax2 = fig.add_subplot(gs[0, 1])\n",
        "ax2.set_title(\"Output\", fontsize=14)\n",
        "ax2.imshow(output[0]) # plot the output for the 1st image\n",
        "ax2.axis(\"off\")\n",
        "plt.show()"
      ]
    },
    {
      "cell_type": "markdown",
      "metadata": {
        "id": "tO0DPkLJFn1L"
      },
      "source": []
    },
    {
      "cell_type": "code",
      "execution_count": null,
      "metadata": {
        "id": "GxuWw9Vug5Ic"
      },
      "outputs": [],
      "source": [
        "# When you run the following code, if you encounter an error saying that tf.nn.max_pool is unimplemented,\n",
        "# you should change the runtime type to None (In the menu bar of this notebook,\n",
        "# choose Runtime -> Change runtime type and then select CPU in Hardware accelerator)\n",
        "# After that, you need to rerun the codes in the Preliminaries and Exercise 1.\n",
        "# Depth-wise max pooling layer\n",
        "output = tf.nn.max_pool(images, ksize=(1, 1, 1, 3), strides=(1, 1, 1, 3), padding=\"VALID\")\n",
        "\n",
        "print(\"images shape:\",images.shape) # N * H * W * C\n",
        "print(\"output shape:\",output.shape) # N * H * W * C"
      ]
    },
    {
      "cell_type": "code",
      "execution_count": null,
      "metadata": {
        "id": "kKCbcEMS-FsL"
      },
      "outputs": [],
      "source": [
        "type(images)"
      ]
    },
    {
      "cell_type": "code",
      "execution_count": null,
      "metadata": {
        "id": "EmYQY700hHfe"
      },
      "outputs": [],
      "source": [
        "# Keras model : wrap it in a Lambda layer\n",
        "depth_pool = keras.layers.Lambda(\n",
        "lambda X: tf.nn.max_pool(X, ksize=(1, 1, 1, 3), strides=(1, 1, 1, 3),padding=\"VALID\"),dtype=\"float64\")\n",
        "output=depth_pool(images)\n",
        "\n",
        "print(\"images :\",images.shape) # N * H * W * C\n",
        "print(\"output :\",output.shape) # N * H * W * C"
      ]
    },
    {
      "cell_type": "code",
      "execution_count": null,
      "metadata": {
        "id": "YmblWnbLhVQn"
      },
      "outputs": [],
      "source": [
        "plt.figure(figsize=(12, 8))\n",
        "plt.subplot(1, 2, 1)\n",
        "plt.title(\"Input\", fontsize=14)\n",
        "plt.imshow(cropped_images[0]) # plot the 1st image\n",
        "plt.subplot(1, 2, 2)\n",
        "plt.title(\"Output\", fontsize=14)\n",
        "plt.imshow(depth_pool(cropped_images)[0,...,0],cmap=\"gray\") # plot the output for the 1st image\n",
        "plt.axis(\"off\")\n",
        "plt.show()"
      ]
    },
    {
      "cell_type": "code",
      "execution_count": null,
      "metadata": {
        "id": "swsshrvfhbXA"
      },
      "outputs": [],
      "source": [
        "avg_pool = keras.layers.AvgPool2D(pool_size=2)\n",
        "output_avg = avg_pool(cropped_images)\n",
        "fig = plt.figure(figsize=(12, 8))\n",
        "gs = mpl.gridspec.GridSpec(nrows=1, ncols=2, width_ratios=[2, 1])\n",
        "ax1 = fig.add_subplot(gs[0, 0])\n",
        "ax1.set_title(\"Input\", fontsize=14)\n",
        "ax1.imshow(cropped_images[0]) # plot the 1st image\n",
        "ax1.axis(\"off\")\n",
        "ax2 = fig.add_subplot(gs[0, 1])\n",
        "ax2.set_title(\"Output\", fontsize=14)\n",
        "ax2.imshow(output_avg[0]) # plot the output for the 1st image\n",
        "ax2.axis(\"off\")\n",
        "plt.show()"
      ]
    },
    {
      "cell_type": "code",
      "execution_count": null,
      "metadata": {
        "id": "dC5T8R3whhM1"
      },
      "outputs": [],
      "source": [
        "# global average pooling\n",
        "global_avg_pool = keras.layers.GlobalAvgPool2D(dtype=\"float64\")\n",
        "output=global_avg_pool(images)\n",
        "\n",
        "print(\"images :\",images.shape) # N * H * W * C\n",
        "print(\"output :\",output.shape) # N * C"
      ]
    },
    {
      "cell_type": "code",
      "execution_count": null,
      "metadata": {
        "id": "PYALx2DZhoLq"
      },
      "outputs": [],
      "source": [
        "# Keras model : wrap it in a Lambda layer\n",
        "global_avg_pool = keras.layers.Lambda(lambda X: tf.reduce_mean(X, axis=[1,2]),dtype=\"float64\")\n",
        "output=global_avg_pool(images)\n",
        "print(\"images :\",images.shape) # N * H * W * C\n",
        "print(\"output :\",output.shape) # N * C"
      ]
    },
    {
      "cell_type": "markdown",
      "metadata": {
        "id": "p4ap-aighuE-"
      },
      "source": [
        "**Exercise 3: CNN Architectures**"
      ]
    },
    {
      "cell_type": "code",
      "execution_count": null,
      "metadata": {
        "id": "qsDVkZo4hqyh"
      },
      "outputs": [],
      "source": [
        "# From here, change the runtime type to T4 GPU\n",
        "\n",
        "import tensorflow as tf\n",
        "from tensorflow import keras\n",
        "import numpy as np\n",
        "import os\n",
        "import matplotlib as mpl\n",
        "import matplotlib.pyplot as plt"
      ]
    },
    {
      "cell_type": "code",
      "execution_count": null,
      "metadata": {
        "id": "TEioSltT2TNL"
      },
      "outputs": [],
      "source": [
        "model = keras.models.Sequential([\n",
        "    keras.layers.Conv2D(3, 3, activation=\"relu\", padding=\"same\",\n",
        "    input_shape=[28, 28, 1]),\n",
        "    keras.layers.MaxPooling2D(2),\n",
        "    keras.layers.Conv2D(16, 3, activation=\"relu\", padding=\"same\"),\n",
        "    keras.layers.Conv2D(16, 3, activation=\"relu\", padding=\"same\"),\n",
        "    keras.layers.MaxPooling2D(2),\n",
        "    keras.layers.Conv2D(32, 3, activation=\"relu\", padding=\"same\"),\n",
        "    keras.layers.Conv2D(32, 3, activation=\"relu\", padding=\"same\"),\n",
        "    keras.layers.MaxPooling2D(2),\n",
        "    keras.layers.Flatten(),\n",
        "    keras.layers.Dense(128, activation=\"relu\"),\n",
        "    keras.layers.Dropout(0.5),\n",
        "    keras.layers.Dense(64, activation=\"relu\"),\n",
        "    keras.layers.Dropout(0.5),\n",
        "    keras.layers.Dense(10, activation=\"softmax\")\n",
        "])"
      ]
    },
    {
      "cell_type": "code",
      "execution_count": null,
      "metadata": {
        "id": "kIoaAqK0iEXz"
      },
      "outputs": [],
      "source": [
        "(X_train_full, y_train_full), (X_test, y_test) = keras.datasets.fashion_mnist.load_data()\n",
        "X_train, X_valid = X_train_full[:-5000], X_train_full[-5000:]\n",
        "y_train, y_valid = y_train_full[:-5000], y_train_full[-5000:]\n",
        "# data normalization\n",
        "X_mean = X_train.mean(axis=0, keepdims=True)\n",
        "X_std = X_train.std(axis=0, keepdims=True) + 1e-7\n",
        "X_train = (X_train - X_mean) / X_std\n",
        "X_valid = (X_valid - X_mean) / X_std\n",
        "X_test = (X_test - X_mean) / X_std\n",
        "X_train = X_train[..., np.newaxis]\n",
        "X_valid = X_valid[..., np.newaxis]\n",
        "X_test = X_test[..., np.newaxis]"
      ]
    },
    {
      "cell_type": "code",
      "execution_count": null,
      "metadata": {
        "id": "LuDV73c4iKZ8"
      },
      "outputs": [],
      "source": [
        "model.compile(loss=\"sparse_categorical_crossentropy\", optimizer=\"nadam\",metrics=[\"accuracy\"])\n",
        "history = model.fit(X_train, y_train, epochs=10, validation_data=(X_valid,y_valid))\n",
        "score = model.evaluate(X_test, y_test)\n",
        "X_new = X_test[:10] # pretend we have new images\n",
        "y_pred = model.predict(X_new)"
      ]
    },
    {
      "cell_type": "markdown",
      "metadata": {
        "id": "uBLVt3y-kloa"
      },
      "source": [
        "**Exercise 4: Build your own CNN from scratch**"
      ]
    },
    {
      "cell_type": "code",
      "execution_count": null,
      "metadata": {
        "id": "7z9KvqObxbGX"
      },
      "outputs": [],
      "source": [
        "class MyModel(tf.keras.Model):\n",
        "  def __init__(self):\n",
        "    # call the present constructor\n",
        "    super(MyModel, self).__init__()\n",
        "    #initalize the layers\n",
        "    self.conv1 = tf.keras.layers.Conv2D(kernel_size=5, filters=16, activation='relu', padding = \"same\")\n",
        "    self.conv2 = tf.keras.layers.Conv2D(kernel_size=5, filters=16, activation='relu', padding = \"same\")\n",
        "    self.conv3 = tf.keras.layers.Conv2D(kernel_size=5, filters=16, activation='relu', padding = \"same\")\n",
        "    self.conv4 = tf.keras.layers.Conv2D(kernel_size=5, filters=16, activation='relu', padding = \"same\")\n",
        "    self.pool = tf.keras.layers.MaxPooling2D(2)\n",
        "    self.flatten = tf.keras.layers.Flatten()\n",
        "    self.d1 = tf.keras.layers.Dense(10, activation='softmax')\n",
        "\n",
        "  def call(self, x):\n",
        "    x = self.conv1(x)\n",
        "    x = self.pool(x)\n",
        "    x = self.conv2(x)\n",
        "    x = self.pool(x)\n",
        "    x = self.conv3(x)\n",
        "    x = self.pool(x)\n",
        "    x = self.conv4(x)\n",
        "    x = self.flatten(x)\n",
        "    x = self.d1(x)\n",
        "    return x\n",
        "\n",
        "model2 = MyModel()"
      ]
    },
    {
      "cell_type": "code",
      "execution_count": null,
      "metadata": {
        "id": "JenjFqGW5p3U"
      },
      "outputs": [],
      "source": [
        "model2.compile(loss=\"sparse_categorical_crossentropy\", optimizer=\"nadam\",metrics=[\"accuracy\"])\n",
        "history = model2.fit(X_train, y_train, epochs=10, validation_data=(X_valid,y_valid))\n",
        "score = model2.evaluate(X_test, y_test)\n",
        "X_new = X_test[:10] # pretend we have new images\n",
        "y_pred = model2.predict(X_new)"
      ]
    },
    {
      "cell_type": "markdown",
      "metadata": {
        "id": "CjY8DwMSEGFe"
      },
      "source": [
        "# **Problem 2 : Build the model of “Exercise 3” using subclass API from “Exercise 4”**"
      ]
    },
    {
      "cell_type": "code",
      "execution_count": null,
      "metadata": {
        "id": "I-Vbhj5l728B"
      },
      "outputs": [],
      "source": [
        "import tensorflow as tf\n",
        "from tensorflow import keras\n",
        "import numpy as np\n",
        "import os\n",
        "import matplotlib as mpl\n",
        "import matplotlib.pyplot as plt"
      ]
    },
    {
      "cell_type": "code",
      "execution_count": null,
      "metadata": {
        "id": "37KatLIBEpXa"
      },
      "outputs": [],
      "source": [
        "# Build the model from \"Exercise 3\"\n",
        "\n",
        "class MyModel1(tf.keras.Model):\n",
        "  def __init__(self):\n",
        "    # call the present constructor\n",
        "    super(MyModel1, self).__init__()\n",
        "    #initalize the layers\n",
        "    self.conv1 = keras.layers.Conv2D(3, 3, activation=\"relu\", padding=\"same\",\n",
        "    input_shape=[28, 28, 1])\n",
        "    self.pool1 = keras.layers.MaxPooling2D(2)\n",
        "    self.conv2 = keras.layers.Conv2D(16, 3, activation=\"relu\", padding=\"same\")\n",
        "    self.conv3 = keras.layers.Conv2D(16, 3, activation=\"relu\", padding=\"same\")\n",
        "    self.pool2 = keras.layers.MaxPooling2D(2)\n",
        "    self.conv4 = keras.layers.Conv2D(32, 3, activation=\"relu\", padding=\"same\")\n",
        "    self.conv5 = keras.layers.Conv2D(32, 3, activation=\"relu\", padding=\"same\")\n",
        "    self.pool3 = keras.layers.MaxPooling2D(2)\n",
        "    self.flatten = keras.layers.Flatten()\n",
        "    self.d1 = keras.layers.Dense(128, activation=\"relu\")\n",
        "    self.drop1 = keras.layers.Dropout(0.5)\n",
        "    self.d2 = keras.layers.Dense(64, activation=\"relu\")\n",
        "    self.drop2 = keras.layers.Dropout(0.5)\n",
        "    self.d3 = keras.layers.Dense(10, activation=\"softmax\")\n",
        "\n",
        "  def call(self, x):\n",
        "    #Forward the model\n",
        "    x = self.conv1(x)\n",
        "    x = self.pool1(x)\n",
        "    x = self.conv2(x)\n",
        "    x = self.conv3(x)\n",
        "    x = self.pool2(x)\n",
        "    x = self.conv4(x)\n",
        "    x = self.conv5(x)\n",
        "    x = self.pool3(x)\n",
        "    x = self.flatten(x)\n",
        "    x = self.d1(x)\n",
        "    x = self.drop1(x)\n",
        "    x = self.d2(x)\n",
        "    x = self.drop2(x)\n",
        "    x = self.d3(x)\n",
        "    return x\n",
        "\n",
        "mymodel1 = MyModel1()"
      ]
    },
    {
      "cell_type": "code",
      "execution_count": null,
      "metadata": {
        "id": "95jjbdyGEogz"
      },
      "outputs": [],
      "source": [
        "mymodel1.compile(loss=\"sparse_categorical_crossentropy\", optimizer=\"nadam\",metrics=[\"accuracy\"])\n",
        "history = mymodel1.fit(X_train, y_train, epochs=10, validation_data=(X_valid,y_valid))\n",
        "score = mymodel1.evaluate(X_test, y_test)\n",
        "X_new = X_test[:10] # pretend we have new images\n",
        "y_pred = mymodel1.predict(X_new)"
      ]
    },
    {
      "cell_type": "code",
      "execution_count": null,
      "metadata": {
        "id": "U5V48k7JErsG"
      },
      "outputs": [],
      "source": [
        "# Use this code to check if two models have same parameter.\n",
        "model.build(input_shape=(1, 28, 28, 1))\n",
        "print(model.summary())\n",
        "mymodel1.build(input_shape=(1, 28, 28, 1))\n",
        "print(mymodel1.summary())"
      ]
    },
    {
      "cell_type": "markdown",
      "metadata": {
        "id": "2mPYAA4CEgYA"
      },
      "source": [
        "# **Problem 3 : Build your own CNN model using subclass API from “Exercise 4” which has a performance of 90% or higher**"
      ]
    },
    {
      "cell_type": "code",
      "execution_count": null,
      "metadata": {
        "id": "ZuHVjleyF2JH"
      },
      "outputs": [],
      "source": [
        "# Build the model which has a performance of 90% or higher\n",
        "# Hint1 : Sometimes, smaller is better\n",
        "# Hint2 : Change the hyperparameters(Epoch, Kernel size, Filters ...)\n",
        "\n",
        "class MyModel2(tf.keras.Model):\n",
        "  def __init__(self):\n",
        "    # call the present constructor\n",
        "    super(MyModel2, self).__init__()\n",
        "    #initalize the layers\n",
        "    self.conv1 = keras.layers.Conv2D(32, (3, 3), activation='relu', padding='same', input_shape=(28, 28, 1))\n",
        "    self.conv2 = keras.layers.Conv2D(64, (3, 3), activation='relu', padding='same')\n",
        "    self.pool = keras.layers.MaxPooling2D((2, 2))\n",
        "    self.flatten = keras.layers.Flatten()\n",
        "    self.dense1 = keras.layers.Dense(128, activation='relu')\n",
        "    self.dense2 = keras.layers.Dense(10, activation='softmax')\n",
        "\n",
        "  def call(self, x):\n",
        "      x = self.conv1(x)\n",
        "      x = self.pool(x)\n",
        "      x = self.conv2(x)\n",
        "      x = self.pool(x)\n",
        "      x = self.flatten(x)\n",
        "      x = self.dense1(x)\n",
        "      x = self.dense2(x)\n",
        "      return x\n",
        "\n",
        "\n",
        "mymodel2 = MyModel2()"
      ]
    },
    {
      "cell_type": "code",
      "execution_count": null,
      "metadata": {
        "id": "DG_5-oFiF7yY"
      },
      "outputs": [],
      "source": [
        "mymodel2.compile(loss=\"sparse_categorical_crossentropy\", optimizer=\"nadam\",metrics=[\"accuracy\"])\n",
        "history = mymodel2.fit(X_train, y_train, epochs=10, validation_data=(X_valid,y_valid))\n",
        "score = mymodel2.evaluate(X_test, y_test)\n",
        "print(f'Test loss: {score[0]}, Test accuracy: {score[1]}')\n",
        "X_new = X_test[:10] # pretend we have new images\n",
        "y_pred = mymodel2.predict(X_new)"
      ]
    },
    {
      "cell_type": "code",
      "source": [],
      "metadata": {
        "id": "xi8b3NRfNKlM"
      },
      "execution_count": null,
      "outputs": []
    }
  ],
  "metadata": {
    "accelerator": "GPU",
    "colab": {
      "gpuType": "T4",
      "private_outputs": true,
      "provenance": []
    },
    "kernelspec": {
      "display_name": "Python 3",
      "name": "python3"
    },
    "language_info": {
      "name": "python"
    }
  },
  "nbformat": 4,
  "nbformat_minor": 0
}