{
  "cells": [
    {
      "cell_type": "code",
      "execution_count": 2,
      "metadata": {
        "id": "RAaJYxkuWydJ"
      },
      "outputs": [],
      "source": [
        "#Import libralies\n",
        "import pandas as pd\n",
        "import numpy as np\n",
        "import matplotlib.pyplot as plt\n",
        "import json\n",
        "import os\n",
        "from tqdm import tqdm, tqdm_notebook\n",
        "import random\n",
        "\n",
        "import tensorflow as tf\n",
        "\n",
        "from tensorflow.keras.preprocessing.image import ImageDataGenerator\n",
        "from tensorflow.keras.models import Model, Sequential\n",
        "from tensorflow.keras.layers import *\n",
        "from tensorflow.keras.optimizers import *\n",
        "from tensorflow.keras.applications import *\n",
        "from tensorflow.keras.callbacks import *\n",
        "from tensorflow.keras.initializers import *\n",
        "\n",
        "#You can import other libraries if you need"
      ]
    },
    {
      "cell_type": "code",
      "execution_count": null,
      "metadata": {
        "id": "63LkyQuTWydM"
      },
      "outputs": [],
      "source": [
        "###### DO NOT MODIFY THIS PART\n",
        "seed = 42\n",
        "os.environ['PYTHONHASHSEED'] = str(seed)  # fix your random seed : In same model, you produce the same result\n",
        "np.random.seed(seed)\n",
        "tf.random.set_seed(seed)\n",
        "random.seed(seed)\n",
        "from keras import backend as K\n",
        "session_conf = tf.compat.v1.ConfigProto(intra_op_parallelism_threads=1, inter_op_parallelism_threads=1)\n",
        "sess = tf.compat.v1.Session(graph=tf.compat.v1.get_default_graph(), config=session_conf) # tensorflow class for your operation\n",
        "tf.compat.v1.keras.backend.set_session(sess)\n",
        "######"
      ]
    },
    {
      "cell_type": "code",
      "source": [
        "from google.colab import drive\n",
        "drive.mount('/content/drive')\n",
        "os.chdir('/content/drive/MyDrive/test')\n",
        "!ls"
      ],
      "metadata": {
        "colab": {
          "base_uri": "https://localhost:8080/"
        },
        "id": "M1owJ8gT_7zV",
        "outputId": "52c6a657-6aed-48b6-ee75-42b434e8e012"
      },
      "execution_count": 3,
      "outputs": [
        {
          "output_type": "stream",
          "name": "stdout",
          "text": [
            "Drive already mounted at /content/drive; to attempt to forcibly remount, call drive.mount(\"/content/drive\", force_remount=True).\n",
            "20202037_output.csv  artists.csv  images\n"
          ]
        }
      ]
    },
    {
      "cell_type": "code",
      "execution_count": null,
      "metadata": {
        "id": "zbTRB_lEWydM"
      },
      "outputs": [],
      "source": [
        "artists = pd.read_csv('./artists.csv') # type your directory\n",
        "# Sort artists by number of paintings\n",
        "artists = artists.sort_values(by=['paintings'], ascending=False)\n",
        "\n",
        "# Create a dataframe\n",
        "artists_top = artists[artists['paintings'] >= 0].reset_index()\n",
        "artists_top = artists_top[['name', 'paintings']]\n",
        "\n",
        "updated_name = \"Albrecht_Dürer\".replace(\"_\", \" \")\n",
        "artists_top.iloc[4, 0] = updated_name"
      ]
    },
    {
      "cell_type": "code",
      "execution_count": null,
      "metadata": {
        "id": "kvsMjTJGWydN",
        "colab": {
          "base_uri": "https://localhost:8080/"
        },
        "outputId": "013fd49d-49ab-4c6f-9e85-1fe167288659"
      },
      "outputs": [
        {
          "output_type": "stream",
          "name": "stdout",
          "text": [
            "Found 220 images belonging to 1 classes.\n"
          ]
        }
      ],
      "source": [
        "#Test set load\n",
        "images_dir = './images/' # type your directory\n",
        "artists_dirs = os.listdir(images_dir)\n",
        "artists_top_name = artists_top['name'].str.replace(' ', '_').values\n",
        "\n",
        "input_shape = (224,224)\n",
        "n_classes = artists_top.shape[0]\n",
        "\n",
        "test_datagen = ImageDataGenerator()\n",
        "\n",
        "test_generator = test_datagen.flow_from_directory(directory=images_dir,\n",
        "                                                    class_mode='categorical',\n",
        "                                                    target_size=input_shape,\n",
        "                                                    batch_size=1,\n",
        "                                                    shuffle=False,\n",
        "                                                    seed=seed,\n",
        "                                                   )"
      ]
    },
    {
      "cell_type": "code",
      "execution_count": null,
      "metadata": {
        "id": "xmLMtVaqWydN",
        "outputId": "cf63d8d7-951c-4908-cd89-cbf8b0d6c9a4",
        "colab": {
          "base_uri": "https://localhost:8080/"
        }
      },
      "outputs": [
        {
          "output_type": "stream",
          "name": "stdout",
          "text": [
            "220/220 [==============================] - 76s 338ms/step\n"
          ]
        }
      ],
      "source": [
        "model = tf.keras.models.load_model(\"../train/model\")\n",
        "\n",
        "test_generator.reset()\n",
        "output = model.predict(test_generator, steps=test_generator.n)\n",
        "output = np.argmax(output, axis=-1)\n",
        "prediction = pd.DataFrame(output, index=test_generator.filenames, columns=['predictions']).sort_index().to_csv('20202037_output.csv') # Type your student ID"
      ]
    },
    {
      "cell_type": "code",
      "source": [],
      "metadata": {
        "id": "NVJozk084UKh"
      },
      "execution_count": null,
      "outputs": []
    }
  ],
  "metadata": {
    "colab": {
      "provenance": []
    },
    "kernelspec": {
      "display_name": "Python 3",
      "language": "python",
      "name": "python3"
    },
    "language_info": {
      "codemirror_mode": {
        "name": "ipython",
        "version": 3
      },
      "file_extension": ".py",
      "mimetype": "text/x-python",
      "name": "python",
      "nbconvert_exporter": "python",
      "pygments_lexer": "ipython3",
      "version": "3.8.5"
    }
  },
  "nbformat": 4,
  "nbformat_minor": 0
}